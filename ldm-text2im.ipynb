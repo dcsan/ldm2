{
  "cells": [
    {
      "cell_type": "markdown",
      "metadata": {
        "colab_type": "text",
        "id": "view-in-github"
      },
      "source": [
        "<a href=\"https://colab.research.google.com/github/dcsan/ldm2/ldm-txt2im.ipynb\" target=\"_parent\"><img src=\"https://colab.research.google.com/assets/colab-badge.svg\" alt=\"Open In Colab\"/></a>"
      ]
    },
    {
      "cell_type": "markdown",
      "metadata": {
        "id": "Bmvx0uTbF6Iw"
      },
      "source": [
        "# Latent Diffusion Models Text2Image\n",
        "\n",
        "### https://arxiv.org/abs/2112.10752\n",
        "\n",
        "### Original repo: https://github.com/CompVis/latent-diffusion\n",
        "\n",
        "### Enhanced repo by [@RiversHaveWings](https://twitter.com/RiversHaveWings): https://github.com/crowsonkb/latent-diffusion\n",
        "\n",
        "### Colab optimizations taken from [@multimodalart](https://twitter.com/multimodalart): https://github.com/multimodalart/latent-diffusion-notebook\n",
        "\n",
        "Shortcut to this notebook: [bit.ly/txt2im](https://bit.ly/txt2im)\n",
        "\n",
        "Notebook by: [Eyal Gruss](https://eyalgruss.com) \\([@eyaler](https://twitter.com/eyaler)\\)\n",
        "\n",
        "A curated list of online generative tools: [j.mp/generativetools](https://j.mp/generativetools)"
      ]
    },
    {
      "cell_type": "code",
      "execution_count": null,
      "metadata": {
        "cellView": "form",
        "id": "2iLdwkKD5l8a"
      },
      "outputs": [],
      "source": [
        "#@title Setup\n",
        "%cd /content\n",
        "!nvidia-smi\n",
        "!git clone https://github.com/eyaler/latent-diffusion\n",
        "!git clone https://github.com/CompVis/taming-transformers\n",
        "!pip -q install -e ./taming-transformers\n",
        "!pip -q install omegaconf pytorch-lightning torch-fidelity einops transformers\n",
        "%cd latent-diffusion\n",
        "!mkdir -p models/ldm/text2img-large/\n",
        "!wget -nc -O models/ldm/text2img-large/model.ckpt https://ommer-lab.com/files/latent-diffusion/nitro/txt2img-f8-large/model.ckpt\n"
      ]
    },
    {
      "cell_type": "code",
      "execution_count": null,
      "metadata": {
        "cellView": "form",
        "id": "g0_Gb52UwMHQ"
      },
      "outputs": [],
      "source": [
        "#@title Generate\n",
        "#@markdown Note: An error probably indicates that you either:\n",
        "#@markdown 1. Skipped running the above setup stage or waited too long and the Colab disconnected - run it again.\n",
        "#@markdown 2. Ran out of RAM - which may be solved by Runtime->Mangage sessions->TERMINATE and starting over in hope of getting a stronger (non K80) machine, or upgrading to Colab Pro...\n",
        "prompt = 'Putin riding a zebra shirtless and waving the Ukrainian flag' #@param {type: 'string'}\n",
        "plms = False #@param {type: 'boolean'}\n",
        "ddim_eta = 0 #@param {type: 'number'}\n",
        "n_samples = 4 #@param {type: 'integer'}\n",
        "n_iter = 4 #@param {type: 'integer'}\n",
        "scale =  5#@param {type: 'number'}\n",
        "ddim_steps =  50#@param {type: 'integer'}\n",
        "W = 256 #@param {type: 'integer'}\n",
        "H = 256 #@param {type: 'integer'}\n",
        "outdir = 'outputs' #@param {type: 'string'}\n",
        "from google.colab.patches import cv2_imshow\n",
        "import cv2\n",
        "from time import time\n",
        "start = time()\n",
        "plms_arg = ''\n",
        "if plms:\n",
        "  plms_arg = '--plms'\n",
        "!python scripts/txt2img.py --prompt \"$prompt\" --ddim_eta $ddim_eta --n_samples $n_samples --n_iter $n_iter --scale $scale --ddim_steps $ddim_steps --H $H --W $W --outdir $outdir $plms_arg\n",
        "print(f'Took {time()-start:.0f} secs.')\n",
        "filename = f'{outdir}/{prompt.replace(\" \", \"-\")}.png'\n",
        "print(filename)\n",
        "im = cv2.imread(filename)\n",
        "cv2_imshow(im)"
      ]
    },
    {
      "cell_type": "code",
      "execution_count": null,
      "metadata": {
        "cellView": "form",
        "id": "S3PKmI74DENO"
      },
      "outputs": [],
      "source": [
        "#@title Download images\n",
        "!zip -jrqFS ldm.zip \"$outdir\"\n",
        "from google.colab import files\n",
        "files.download('ldm.zip')"
      ]
    }
  ],
  "metadata": {
    "accelerator": "GPU",
    "colab": {
      "include_colab_link": true,
      "machine_shape": "hm",
      "name": "LDM-TXT2IM.ipynb",
      "private_outputs": true,
      "provenance": []
    },
    "kernelspec": {
      "display_name": "Python 3",
      "name": "python3"
    },
    "language_info": {
      "name": "python"
    }
  },
  "nbformat": 4,
  "nbformat_minor": 0
}
